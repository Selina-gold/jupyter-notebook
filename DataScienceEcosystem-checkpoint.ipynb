{
 "cells": [
  {
   "cell_type": "markdown",
   "id": "f7a12cfa",
   "metadata": {},
   "source": [
    "# Data Science Tools and Ecosystem"
   ]
  },
  {
   "cell_type": "markdown",
   "id": "24b155f8",
   "metadata": {},
   "source": [
    "In this notebook,Data Science tools ans Ecosystem are summarized"
   ]
  },
  {
   "cell_type": "markdown",
   "id": "31ea8f33",
   "metadata": {},
   "source": [
    "**Objectives**"
   ]
  },
  {
   "cell_type": "markdown",
   "id": "32bb087c",
   "metadata": {},
   "source": [
    "## Bullet List\n",
    "* Julia\n",
    "* Scala\n",
    "* Ruby\n",
    "* Apache Hadoop"
   ]
  },
  {
   "cell_type": "markdown",
   "id": "0797b656",
   "metadata": {},
   "source": [
    "Some of the popular languages that Data Scientists use are :\n",
    "## ordered list\n",
    "1. python\n",
    "2. SQL\n",
    "3. scala\n",
    "4. Java"
   ]
  },
  {
   "cell_type": "markdown",
   "id": "3c6d82cd",
   "metadata": {},
   "source": [
    "Some of the commonly used libraries used by Data Scientists are :\n",
    "## ordered list\n",
    "1. Pandas\n",
    "2. Matplotlib\n",
    "3. TensorFlow\n",
    "4. NumPy"
   ]
  },
  {
   "cell_type": "markdown",
   "id": "a4b1c7ae",
   "metadata": {},
   "source": [
    "|Data Science Tools|\n",
    "|---|\n",
    "|Apache Spark|\n",
    "|Jupyter notebook|\n",
    "|Tableau|"
   ]
  },
  {
   "cell_type": "markdown",
   "id": "28f7efd4",
   "metadata": {},
   "source": [
    "### Below are a few examples of evaluating arithmetic expression in python"
   ]
  },
  {
   "cell_type": "markdown",
   "id": "ed5c96d2",
   "metadata": {},
   "source": [
    "#This is a simple arithmetic expression to multiply then add integers\n"
   ]
  },
  {
   "cell_type": "code",
   "execution_count": 2,
   "id": "edb5622e",
   "metadata": {},
   "outputs": [
    {
     "data": {
      "text/plain": [
       "17"
      ]
     },
     "execution_count": 2,
     "metadata": {},
     "output_type": "execute_result"
    }
   ],
   "source": [
    "(3*4)+5"
   ]
  },
  {
   "cell_type": "markdown",
   "id": "039fd3a6",
   "metadata": {},
   "source": [
    "#This will convert 200 minutes into hours by dividing by 60"
   ]
  },
  {
   "cell_type": "code",
   "execution_count": 3,
   "id": "5731f43c",
   "metadata": {},
   "outputs": [
    {
     "name": "stdout",
     "output_type": "stream",
     "text": [
      "The equivalent value in hours is : 3.3333333333333335\n"
     ]
    }
   ],
   "source": [
    "minutes=200\n",
    "hours=minutes/60\n",
    "print(\"The equivalent value in hours is :\",hours)"
   ]
  },
  {
   "cell_type": "markdown",
   "id": "141a0d3d",
   "metadata": {},
   "source": [
    "## AUTHOR\n",
    "SELINA GOLD J"
   ]
  },
  {
   "cell_type": "markdown",
   "id": "2711b4eb",
   "metadata": {},
   "source": [
    "  "
   ]
  }
 ],
 "metadata": {
  "kernelspec": {
   "display_name": "Python 3 (ipykernel)",
   "language": "python",
   "name": "python3"
  },
  "language_info": {
   "codemirror_mode": {
    "name": "ipython",
    "version": 3
   },
   "file_extension": ".py",
   "mimetype": "text/x-python",
   "name": "python",
   "nbconvert_exporter": "python",
   "pygments_lexer": "ipython3",
   "version": "3.10.9"
  }
 },
 "nbformat": 4,
 "nbformat_minor": 5
}
